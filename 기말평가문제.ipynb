{
  "nbformat": 4,
  "nbformat_minor": 0,
  "metadata": {
    "colab": {
      "provenance": [],
      "authorship_tag": "ABX9TyOnPjPn2wK6Hw3cbIv3J2iT",
      "include_colab_link": true
    },
    "kernelspec": {
      "name": "python3",
      "display_name": "Python 3"
    },
    "language_info": {
      "name": "python"
    }
  },
  "cells": [
    {
      "cell_type": "markdown",
      "metadata": {
        "id": "view-in-github",
        "colab_type": "text"
      },
      "source": [
        "<a href=\"https://colab.research.google.com/github/shkimusw/bigdata/blob/main/%EA%B8%B0%EB%A7%90%ED%8F%89%EA%B0%80%EB%AC%B8%EC%A0%9C.ipynb\" target=\"_parent\"><img src=\"https://colab.research.google.com/assets/colab-badge.svg\" alt=\"Open In Colab\"/></a>"
      ]
    },
    {
      "cell_type": "markdown",
      "source": [
        "# 기말고사\n",
        "각 텍스트 문제 뒤에 코드블럭을 생성하여 문제에 대한 답을 코드로 적어보자. 과제는 올림픽 메달 집계 위키페이지 데이터를 지시대로 가공하는 것이다. 오픈북이니 마음껏 검색하거나 예전 수업자료를 보아도 된다. 단, 판다스 라이브러리를 사용해야 한다. 문제는 총 13문제이다.\n",
        "\n",
        "*   코드를 완성, 실행한 후 깃허브 저장소에 **'기말고사(학번 이름)'의 파일명**으로 사본저장한다.\n",
        "* 업로드 후 **저장소** 주소와 노션 포트폴리오 주소를 pdf로 작성하여 캔버스로 제출한다 (4시 반까지)\n",
        "\n",
        "** 아래 코드로 데이터를 가져올 수 없다면 구글에서 '올림픽 메달 집계' 검색 후 위키페이지의 주소를 복사해서 알맞게 코드를 변형한다. (교재 p.252 참조)"
      ],
      "metadata": {
        "id": "jbDC1VH0TQ2R"
      }
    },
    {
      "cell_type": "code",
      "source": [
        "#글자깨짐 문제 수정을 위해 다음의 코드 실행 \n",
        "#단계 1: 폰트 설치\n",
        "import matplotlib.font_manager as fm\n",
        "!apt-get -qq -y install fonts-nanum > /dev/null\n",
        "fontpath = '/usr/share/fonts/truetype/nanum/NanumBarunGothic.ttf'\n",
        "font = fm.FontProperties(fname=fontpath, size=9)\n",
        "fm._rebuild()\n",
        "\n",
        "\n",
        "# 단계 2: 런타임 재시작\n",
        "import os\n",
        "os.kill(os.getpid(), 9)"
      ],
      "metadata": {
        "id": "0HUuRnx8Vw5j"
      },
      "execution_count": null,
      "outputs": []
    },
    {
      "cell_type": "code",
      "source": [
        "# 단계 3: 한글 폰트 설정\n",
        "import matplotlib.pyplot as plt\n",
        "import matplotlib as mpl\n",
        "import matplotlib.font_manager as fm\n",
        "\n",
        "# 마이너스 표시 문제\n",
        "mpl.rcParams['axes.unicode_minus'] = False\n",
        "\t\n",
        "# 한글 폰트 설정\n",
        "path = '/usr/share/fonts/truetype/nanum/NanumGothicBold.ttf'\n",
        "font_name = fm.FontProperties(fname=path, size=18).get_name()\n",
        "plt.rc('font', family=font_name)\n",
        "fm._rebuild()"
      ],
      "metadata": {
        "id": "uFOzivzvVzzh"
      },
      "execution_count": null,
      "outputs": []
    },
    {
      "cell_type": "code",
      "source": [
        "#데이터 불러오기\n",
        "import pandas as pd\n",
        "df=pd.read_html('https://ko.wikipedia.org/wiki/%EC%98%AC%EB%A6%BC%ED%94%BD_%EB%A9%94%EB%8B%AC_%EC%A7%91%EA%B3%84', header=0, index_col=0) #맨 위의 헤더를 열 이름, 나라 이름을 인덱스 이름으로\n",
        "df[0]"
      ],
      "metadata": {
        "id": "QphHU4wGTqJZ"
      },
      "execution_count": null,
      "outputs": []
    },
    {
      "cell_type": "markdown",
      "source": [
        "1. 하계올림픽 관련 정보만 추출해서 summer라는 데이터프레임에 저장하자. summer 데이터프레임을 나타내보자."
      ],
      "metadata": {
        "id": "LyFzz2l3QyB9"
      }
    },
    {
      "cell_type": "markdown",
      "source": [
        "2. 동계올림픽 관련 정보만 추출해서 winter라는 데이터프레임에 저장하자. winter 데이터프레임을 나타내보자."
      ],
      "metadata": {
        "id": "UO262uBHQ6pq"
      }
    },
    {
      "cell_type": "markdown",
      "source": [
        "3. summer 데이터 프레임 열 이름을 '하계참가횟수', '금', '은', '동', '하계 계'로 지어서 지정하자. 열 이름을 바꾼 후 summer 데이터프레임을 나타내보자."
      ],
      "metadata": {
        "id": "-1bPy48MQ_10"
      }
    },
    {
      "cell_type": "markdown",
      "source": [
        "4. winter 데이터 프레임 열 이름을 '동계참가횟수', '금', '은', '동', '동계 계'로 지어서 지정하자. 열 이름을 바꾼 후 winter 데이터프레임을 나타내보자."
      ],
      "metadata": {
        "id": "JJ9WaeufRLGk"
      }
    },
    {
      "cell_type": "markdown",
      "source": [
        "5. 동계와 하계 프레임을 합쳐보자. 합친 데이터프레임을 olympics_data로 이름짓는다. olympics_data 데이터프레임을 나타내보자.\n",
        "\n"
      ],
      "metadata": {
        "id": "p62oLgQoJVi5"
      }
    },
    {
      "cell_type": "markdown",
      "source": [
        "6. 하계대회 참가횟수대비 하계 총 메달 수(rate1), 동계대회 참가횟수대비 동계 총 메달 수(rate2) 열을 생성해서 olympics_data 마지막 열에 붙여보자. olympics_data 데이터프레임을 나타내보자."
      ],
      "metadata": {
        "id": "j4I_XKq3VGM6"
      }
    },
    {
      "cell_type": "markdown",
      "source": [
        "7. olympics_data 데이터프레임의 기본정보를 조회해보자.\n",
        "* rate1 과 rate2 의 결측치(NaN) 수는 각각 몇 개인가? (코드 칸에 #을 넣고 적어보자)"
      ],
      "metadata": {
        "id": "CZ2023kcSTK_"
      }
    },
    {
      "cell_type": "markdown",
      "source": [
        "8. 국가가 '총합'과 '연합 (EUN) [EUN]'인 행을 제거한 후 olympics_data 데이터프레임을 나타내보자."
      ],
      "metadata": {
        "id": "RpMjDuQwffln"
      }
    },
    {
      "cell_type": "markdown",
      "source": [
        "9. 하계참가횟수 당 평균 메달 수가 15이상인 국가를 나타내보자. \n",
        "\n",
        "* 이 중 아시아 국가는 어느 국가인가?(코드 뒤 #을 넣고 써 보자)\n"
      ],
      "metadata": {
        "id": "28oN1lyOW9yJ"
      }
    },
    {
      "cell_type": "markdown",
      "source": [
        "10. olympics_data 데이터프레임의 rate1 변수가 높은대로 정렬해보자. \n",
        "\n",
        "* 어느 국가가 가장 하계대회 참가횟수당 평균 메달 수가 많은가?  (코드 칸에 #을 넣고 나라 이름과 참가횟수 당 평균 메달 수까지 적어보자.)"
      ],
      "metadata": {
        "id": "grMQFpwJdIcf"
      }
    },
    {
      "cell_type": "markdown",
      "source": [
        "11. rate1 변수가 높은 순서대로 정렬하여 엑셀파일로 추출해보자. 파일 이름은 olympics.xlsx로 한다."
      ],
      "metadata": {
        "id": "Bo_AWE3T2z9O"
      }
    },
    {
      "cell_type": "markdown",
      "source": [
        "12. rate2 변수가 높은대로 정렬해보자. \n",
        "* 어느 국가가 가장 동계대회 참가횟수당 평균 메달 수가 많은가? (코드 칸에 #을 넣고 나라 이름과 참가횟수 당 평균 메달 수까지 적어보자.)"
      ],
      "metadata": {
        "id": "z1o7X1mAUTIV"
      }
    },
    {
      "cell_type": "markdown",
      "source": [
        "13. 하계참가횟수, 동계참가횟수, rate1, rate2의 상관관계를 히트맵(matplotlib & seaborn)으로 그려보자. \n",
        "\n",
        "* 하계대회 참가횟수 대비 메달 수와 동계대회 참가횟수 대비 메달 수의 상관계수는 얼마인가?  둘의 상관관계는 높은가 낮은가? 상관관계가 높다면(낮다면) 그 이유는 무엇이라고 생각하는가?(코드 뒤에 #을 넣어서 적어보자)"
      ],
      "metadata": {
        "id": "FOYVJRugSAFD"
      }
    },
    {
      "cell_type": "markdown",
      "source": [
        "학번: \n",
        "\n",
        "이름:"
      ],
      "metadata": {
        "id": "kwD9z4XD176Q"
      }
    }
  ]
}
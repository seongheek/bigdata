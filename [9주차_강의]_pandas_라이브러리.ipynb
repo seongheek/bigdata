{
  "nbformat": 4,
  "nbformat_minor": 0,
  "metadata": {
    "colab": {
      "provenance": [],
      "authorship_tag": "ABX9TyP/a0xlow5mfOPzZT+TTUUD",
      "include_colab_link": true
    },
    "kernelspec": {
      "name": "python3",
      "display_name": "Python 3"
    },
    "language_info": {
      "name": "python"
    }
  },
  "cells": [
    {
      "cell_type": "markdown",
      "metadata": {
        "id": "view-in-github",
        "colab_type": "text"
      },
      "source": [
        "<a href=\"https://colab.research.google.com/github/shkimusw/bigdata/blob/main/%5B9%EC%A3%BC%EC%B0%A8_%EA%B0%95%EC%9D%98%5D_pandas_%EB%9D%BC%EC%9D%B4%EB%B8%8C%EB%9F%AC%EB%A6%AC.ipynb\" target=\"_parent\"><img src=\"https://colab.research.google.com/assets/colab-badge.svg\" alt=\"Open In Colab\"/></a>"
      ]
    },
    {
      "cell_type": "markdown",
      "source": [
        "# 판다스 소개\n",
        "\n",
        "*   pandas는 numpy를 기반으로 만들어졌다.\n",
        "*   1차원 배열 형태는 series, 2차원 배열 형태의 구조는 dataframe이라고 부른다.\n",
        "*   dataframe을 다루는 방법을 알아보자.\n",
        "\n",
        "\n",
        "** 준비사항: 구글에서 '올림픽 메달 집계' 검색 후 위키페이지의 주소를 복사한다 (p.252)"
      ],
      "metadata": {
        "id": "jbDC1VH0TQ2R"
      }
    },
    {
      "cell_type": "code",
      "execution_count": null,
      "metadata": {
        "id": "wnHBQja2RO3c"
      },
      "outputs": [],
      "source": [
        "import pandas as pd\n",
        "df=pd.read_html('https://ko.wikipedia.org/wiki/%EC%98%AC%EB%A6%BC%ED%94%BD_%EB%A9%94%EB%8B%AC_%EC%A7%91%EA%B3%84')\n",
        "print(df)"
      ]
    },
    {
      "cell_type": "code",
      "source": [
        "df[0]  #df리스트의 0번 인덱스에 저장된 내용 보기"
      ],
      "metadata": {
        "id": "DznpQpWFTIyB"
      },
      "execution_count": null,
      "outputs": []
    },
    {
      "cell_type": "code",
      "source": [
        "import pandas as pd\n",
        "df=pd.read_html('https://ko.wikipedia.org/wiki/%EC%98%AC%EB%A6%BC%ED%94%BD_%EB%A9%94%EB%8B%AC_%EC%A7%91%EA%B3%84', header=0, index_col=0) #맨 위의 헤더를 열 이름, 나라 이름을 인덱스 이름으로\n",
        "df[0]"
      ],
      "metadata": {
        "id": "QphHU4wGTqJZ"
      },
      "execution_count": null,
      "outputs": []
    },
    {
      "cell_type": "code",
      "source": [
        "#하계올림픽만 추출하기\n",
        "\n",
        "summer=df[0].iloc[:,:5]  #iloc-> 명시된 숫자만큼 슬라이싱\n",
        "summer"
      ],
      "metadata": {
        "id": "h2HFURtAUUZG"
      },
      "execution_count": null,
      "outputs": []
    },
    {
      "cell_type": "code",
      "source": [
        "#열 이름 지정\n",
        "summer.columns=['하계참가횟수', '금', '은', '동', '계']\n",
        "summer"
      ],
      "metadata": {
        "id": "GDEYAa1CU-N5"
      },
      "execution_count": null,
      "outputs": []
    },
    {
      "cell_type": "code",
      "source": [
        "#금메달 갯수대로 정렬하기\n",
        "print(summer.sort_values('금', ascending=False))"
      ],
      "metadata": {
        "id": "UyT__YzmXMOu"
      },
      "execution_count": null,
      "outputs": []
    },
    {
      "cell_type": "code",
      "source": [
        "#표를 엑셀로 저장\n",
        "summer=summer.sort_values('금', ascending=False)\n",
        "summer.to_excel('summer_olympics.xlsx')"
      ],
      "metadata": {
        "id": "EAhVEI72Xnwu"
      },
      "execution_count": null,
      "outputs": []
    },
    {
      "cell_type": "markdown",
      "source": [
        "# 데이터 프레임 기초 (p.260)"
      ],
      "metadata": {
        "id": "nVfZzo75V66U"
      }
    },
    {
      "cell_type": "code",
      "source": [
        "import pandas as pd\n",
        "index=pd.date_range('1/1/2000', periods=8)  #8개의 기간 인덱스 생성\n",
        "print(index)"
      ],
      "metadata": {
        "id": "YGE082kvV-Zg"
      },
      "execution_count": null,
      "outputs": []
    },
    {
      "cell_type": "code",
      "source": [
        "import numpy as np\n",
        "df=pd.DataFrame(np.random.rand(8,3), index=index, columns=list('ABC'))\n",
        "df"
      ],
      "metadata": {
        "id": "fetdWa1TWJwn"
      },
      "execution_count": null,
      "outputs": []
    },
    {
      "cell_type": "code",
      "source": [
        "print(df['B'])"
      ],
      "metadata": {
        "id": "LByW22JLWdGn"
      },
      "execution_count": null,
      "outputs": []
    },
    {
      "cell_type": "code",
      "source": [
        "import pandas as pd\n",
        "import numpy as np\n",
        "index=pd.date_range('1/1/2000', periods=8)  #8개의 기간 인덱스 생성\n",
        "df=pd.DataFrame(np.random.rand(8,3), index=index, columns=list('ABC'))\n",
        "df\n",
        "\n",
        "print(df['B']>0.4)"
      ],
      "metadata": {
        "id": "DBmZzquCW-nk"
      },
      "execution_count": null,
      "outputs": []
    },
    {
      "cell_type": "code",
      "source": [
        "#True로 출력된 데이터로만 이루어진 데이터 프레임 만들기\n",
        "df2=df[df['B']>0.4]\n",
        "df2"
      ],
      "metadata": {
        "id": "WGkMq8n7XRmd"
      },
      "execution_count": null,
      "outputs": []
    },
    {
      "cell_type": "code",
      "source": [
        "#행과 열 전환(transpose)\n",
        "df2=df2.T\n",
        "df2"
      ],
      "metadata": {
        "id": "6tPXZmb3XlGc"
      },
      "execution_count": null,
      "outputs": []
    },
    {
      "cell_type": "code",
      "source": [
        "#연산: 나누기\n",
        "import pandas as pd\n",
        "import numpy as np\n",
        "index=pd.date_range('1/1/2000', periods=8)  #8개의 기간 인덱스 생성\n",
        "df=pd.DataFrame(np.random.rand(8,3), index=index, columns=list('ABC'))\n",
        "df['D']=df['A']/df['B']\n",
        "df\n",
        "          "
      ],
      "metadata": {
        "id": "_DwX5TBCYHoQ"
      },
      "execution_count": null,
      "outputs": []
    },
    {
      "cell_type": "code",
      "source": [
        "#연산: 덧셈\n",
        "import pandas as pd\n",
        "import numpy as np\n",
        "index=pd.date_range('1/1/2000', periods=8)  #8개의 기간 인덱스 생성\n",
        "df=pd.DataFrame(np.random.rand(8,3), index=index, columns=list('ABC'))\n",
        "df['D']=df['A']/df['B']\n",
        "df['E']=np.sum(df, axis=1)  #열방향 합산\n",
        "df.head()"
      ],
      "metadata": {
        "id": "VRRImcfOY3By"
      },
      "execution_count": null,
      "outputs": []
    },
    {
      "cell_type": "code",
      "source": [
        "#연산: 뺄셈\n",
        "import pandas as pd\n",
        "import numpy as np\n",
        "index=pd.date_range('1/1/2000', periods=8)  #8개의 기간 인덱스 생성\n",
        "df=pd.DataFrame(np.random.rand(8,3), index=index, columns=list('ABC'))\n",
        "df['D']=df['A']/df['B']\n",
        "df['E']=np.sum(df, axis=1)  \n",
        "df=df.sub(df['A'], axis=0) #행 방향 차감\n",
        "df.head()"
      ],
      "metadata": {
        "id": "eBClfNSsZWNd"
      },
      "execution_count": null,
      "outputs": []
    },
    {
      "cell_type": "code",
      "source": [
        "#연산: 나눗셈\n",
        "import pandas as pd\n",
        "import numpy as np\n",
        "index=pd.date_range('1/1/2000', periods=8)  #8개의 기간 인덱스 생성\n",
        "df=pd.DataFrame(np.random.rand(8,3), index=index, columns=list('ABC'))\n",
        "df['D']=df['A']/df['B']\n",
        "df['E']=np.sum(df, axis=1)  \n",
        "df=df.sub(df['A'], axis=0)\n",
        "df=df.div(df['C'], axis=0)\n",
        "df.to_csv('test.csv')  #폴더에 test.csv 생성\n",
        "df.head()"
      ],
      "metadata": {
        "id": "MEcZvTQ9bBIc"
      },
      "execution_count": null,
      "outputs": []
    }
  ]
}
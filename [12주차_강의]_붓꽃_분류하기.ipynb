{
  "nbformat": 4,
  "nbformat_minor": 0,
  "metadata": {
    "colab": {
      "provenance": [],
      "include_colab_link": true
    },
    "kernelspec": {
      "name": "python3",
      "display_name": "Python 3"
    }
  },
  "cells": [
    {
      "cell_type": "markdown",
      "metadata": {
        "id": "view-in-github",
        "colab_type": "text"
      },
      "source": [
        "<a href=\"https://colab.research.google.com/github/shkimusw/bigdata/blob/main/%5B12%E1%84%8C%E1%85%AE%E1%84%8E%E1%85%A1_%E1%84%80%E1%85%A1%E1%86%BC%E1%84%8B%E1%85%B4%5D_%E1%84%87%E1%85%AE%E1%86%BA%E1%84%81%E1%85%A9%E1%86%BE_%E1%84%87%E1%85%AE%E1%86%AB%E1%84%85%E1%85%B2%E1%84%92%E1%85%A1%E1%84%80%E1%85%B5.ipynb\" target=\"_parent\"><img src=\"https://colab.research.google.com/assets/colab-badge.svg\" alt=\"Open In Colab\"/></a>"
      ]
    },
    {
      "cell_type": "markdown",
      "source": [
        "# **머신러닝 기초연습**"
      ],
      "metadata": {
        "id": "3c5szW8TYTnj"
      }
    },
    {
      "cell_type": "markdown",
      "source": [
        "한 아마추어 식물학자가 들에서 발견한 붓꽃(iris)의 품종을 알고 싶어한다. 이 식물학자는 붓꽃의 꽃잎(petal)과 꽃받침(sepal)의 폭과 길이를 센티미터 단위로 측정하였다.\n",
        "\n",
        "또 전문 식물학자가 setosa, versicolor, virginica 종으로 분류한 붓꽃의 측정 데이터도 가지고 있다. 이 측정값을 이용해서 앞에서 채집한 붓꽃이 어떤 품종인지 구분하려 한다. 이 아마추어 식물학자가 야생에서 채집한 붓꽃은 이 세 종류뿐이라고 가정하자.\n",
        "\n",
        "우리의 목표는 어떤 품종인지 구분해놓은 측정 데이터를 이용해 새로 채집한 붓꽃의 품종을 예측하는 머신러닝 모델을 만드는 것이다."
      ],
      "metadata": {
        "id": "-fpBFhjpX_Ii"
      }
    },
    {
      "cell_type": "markdown",
      "metadata": {
        "id": "Mh6CUYbhlKf1"
      },
      "source": [
        "# 데이터셋 불러오기"
      ]
    },
    {
      "cell_type": "code",
      "metadata": {
        "id": "pXlj46QfQtnA"
      },
      "source": [
        "# 라이브러리 환경\n",
        "import pandas as pd\n",
        "import numpy as np"
      ],
      "execution_count": 8,
      "outputs": []
    },
    {
      "cell_type": "code",
      "metadata": {
        "id": "3-_eFkjaHrUd",
        "colab": {
          "base_uri": "https://localhost:8080/"
        },
        "outputId": "b3cdfa96-9a70-47fb-8db5-e5c254fa505d"
      },
      "source": [
        "# sklearn 데이터셋에서 iris 데이터셋 로딩\n",
        "from sklearn import datasets\n",
        "iris = datasets.load_iris()\n",
        "\n",
        "# iris 데이터셋은 딕셔너리 형태이므로, key 값을 확인\n",
        "iris.keys()"
      ],
      "execution_count": 9,
      "outputs": [
        {
          "output_type": "execute_result",
          "data": {
            "text/plain": [
              "dict_keys(['data', 'target', 'frame', 'target_names', 'DESCR', 'feature_names', 'filename', 'data_module'])"
            ]
          },
          "metadata": {},
          "execution_count": 9
        }
      ]
    },
    {
      "cell_type": "code",
      "metadata": {
        "id": "cYm2yULTet5y"
      },
      "source": [
        "# DESCR 키를 이용하여 데이터셋 설명(Description) 출력\n",
        "print(iris['DESCR'])"
      ],
      "execution_count": null,
      "outputs": []
    },
    {
      "cell_type": "code",
      "source": [
        "print(\"특성의 이름: \\n{}\".format(iris['feature_names']))"
      ],
      "metadata": {
        "id": "QbNUYRqiY1N3"
      },
      "execution_count": null,
      "outputs": []
    },
    {
      "cell_type": "code",
      "source": [
        "print(\"타깃의 이름: {}\".format(iris['target_names']))"
      ],
      "metadata": {
        "id": "EzcTJEemXsil"
      },
      "execution_count": null,
      "outputs": []
    },
    {
      "cell_type": "code",
      "metadata": {
        "id": "hKg7IQIwdipJ"
      },
      "source": [
        "# target 배열은 샘플 붓꽃의 품종을 담은 NumPy 배열이다.\n",
        "# target 속성의 데이터셋 크기\n",
        "print(\"데이터셋 크기:\", iris['target'].shape)\n",
        "\n",
        "# target 속성의 데이터셋 내용\n",
        "print(\"데이터셋 내용: \\n\", iris['target'])"
      ],
      "execution_count": null,
      "outputs": []
    },
    {
      "cell_type": "code",
      "metadata": {
        "id": "6VIubzxWRYPG"
      },
      "source": [
        "# data는 꽃잎의 길이와 폭, 꽃받침의 길이와 폭을 수치 값으로 가지고 있는 NumPy 배열이다.\n",
        "# data 속성의 데이터셋 크기\n",
        "print(\"데이터셋 크기:\", iris['data'].shape)\n",
        "# data 속성의 데이터셋 내용 (첫 7개 행을 추출)\n",
        "print(\"데이터셋 내용: \\n\", iris['data'][:7, :])"
      ],
      "execution_count": null,
      "outputs": []
    },
    {
      "cell_type": "code",
      "metadata": {
        "id": "V7HrUvJ9v278"
      },
      "source": [
        "# data 속성을 판다스 데이터프레임으로 변환\n",
        "df = pd.DataFrame(iris['data'], columns=iris['feature_names'])\n",
        "print(\"데이터프레임의 형태:\", df.shape)\n",
        "df.head()"
      ],
      "execution_count": null,
      "outputs": []
    },
    {
      "cell_type": "code",
      "metadata": {
        "id": "Ef6PXdsTXmlN"
      },
      "source": [
        "# 열(column) 이름을 간결하게 변경\n",
        "df.columns = ['sepal_length', 'sepal_width', 'petal_length', 'petal_width']\n",
        "df.head(2)"
      ],
      "execution_count": null,
      "outputs": []
    },
    {
      "cell_type": "code",
      "metadata": {
        "id": "2bM4FjZPSALT"
      },
      "source": [
        "# Target 열 추가\n",
        "df['Target'] = iris['target']\n",
        "print('데이터셋의 크기: ', df.shape)\n",
        "df.head()"
      ],
      "execution_count": null,
      "outputs": []
    },
    {
      "cell_type": "markdown",
      "metadata": {
        "id": "FGwnD0-kjn_-"
      },
      "source": [
        "# 데이터 탐색"
      ]
    },
    {
      "cell_type": "code",
      "metadata": {
        "id": "DlwUb6OpjUj3"
      },
      "source": [
        "# 데이터프레임의 기본정보\n",
        "df.info()"
      ],
      "execution_count": null,
      "outputs": []
    },
    {
      "cell_type": "code",
      "metadata": {
        "id": "tWrqxqk_jQJK"
      },
      "source": [
        "# 통계정보 요약\n",
        "df.describe()"
      ],
      "execution_count": null,
      "outputs": []
    },
    {
      "cell_type": "code",
      "metadata": {
        "id": "dop-oICxPAWn"
      },
      "source": [
        "# 결측값 확인\n",
        "df.isnull().sum()"
      ],
      "execution_count": null,
      "outputs": []
    },
    {
      "cell_type": "code",
      "metadata": {
        "id": "L7qi6SPfzAaP"
      },
      "source": [
        "# 중복 데이터 확인\n",
        "df.duplicated().sum()"
      ],
      "execution_count": null,
      "outputs": []
    },
    {
      "cell_type": "code",
      "metadata": {
        "id": "KyMV7I7d3lMe"
      },
      "source": [
        "# 중복 데이터 출력\n",
        "df.loc[df.duplicated(), :]"
      ],
      "execution_count": null,
      "outputs": []
    },
    {
      "cell_type": "code",
      "metadata": {
        "id": "ticn0yKI33aW"
      },
      "source": [
        "# 중복 데이터 모두 출력\n",
        "df.loc[(df.sepal_length==5.8)&(df.petal_width==1.9), :]"
      ],
      "execution_count": null,
      "outputs": []
    },
    {
      "cell_type": "code",
      "metadata": {
        "id": "7t17-ldz4gXS"
      },
      "source": [
        "# 중복 데이터 제거\n",
        "df = df.drop_duplicates()\n",
        "# 삭제되었는지 확인\n",
        "df.loc[(df.sepal_length==5.8)&(df.petal_width==1.9), :]"
      ],
      "execution_count": null,
      "outputs": []
    },
    {
      "cell_type": "code",
      "metadata": {
        "id": "DDLp__Bzmrji"
      },
      "source": [
        "# 변수 간의 상관관계 분석\n",
        "df.corr()"
      ],
      "execution_count": null,
      "outputs": []
    },
    {
      "cell_type": "code",
      "metadata": {
        "id": "7p7neAmSY4eU"
      },
      "source": [
        "# 시각화 라이브러리 설정\n",
        "import matplotlib.pyplot as plt\n",
        "# seaborn 라이브러리를 사용해보자.\n",
        "import seaborn as sns\n",
        "sns.set(font_scale=1.2)"
      ],
      "execution_count": 13,
      "outputs": []
    },
    {
      "cell_type": "code",
      "metadata": {
        "id": "MGeZyYr2wzhF"
      },
      "source": [
        "# 상관계수 히트맵\n",
        "sns.heatmap(data=df.corr(), square=True, annot=True)\n",
        "plt.show()"
      ],
      "execution_count": null,
      "outputs": []
    },
    {
      "cell_type": "code",
      "metadata": {
        "id": "nkhhOIm8qVBP"
      },
      "source": [
        "# Target 값의 분포 - value_counts 함수\n",
        "df['Target'].value_counts()"
      ],
      "execution_count": null,
      "outputs": []
    },
    {
      "cell_type": "code",
      "metadata": {
        "id": "tKLxI-sBL0eC"
      },
      "source": [
        "# sepal_length 값의 분포 - hist 함수\n",
        "plt.hist(x='sepal_length', data=df)\n",
        "plt.show()"
      ],
      "execution_count": null,
      "outputs": []
    },
    {
      "cell_type": "code",
      "metadata": {
        "id": "58D5fjjuMxna"
      },
      "source": [
        "# sepal_width 값의 분포 - displot 함수 (histogram)\n",
        "sns.displot(x='sepal_width', kind='hist', data=df)\n",
        "plt.show()"
      ],
      "execution_count": null,
      "outputs": []
    },
    {
      "cell_type": "code",
      "metadata": {
        "id": "L1iQDjy8NByG"
      },
      "source": [
        "# petal_length 값의 분포 - displot 함수 (kde 밀도 함수 그래프)\n",
        "sns.displot(x='petal_width', kind='kde', data=df)\n",
        "plt.show()\n",
        "\n",
        "# 봉우리가 두 개인 것으로 보아 서로 이질적인 데이터가 섞여있음을 추정해볼 수 있다."
      ],
      "execution_count": null,
      "outputs": []
    },
    {
      "cell_type": "code",
      "metadata": {
        "id": "n_1r-dJKZWmY"
      },
      "source": [
        "# 품종별 sepal_length 값의 분포 비교\n",
        "sns.displot( x='sepal_length', hue='Target', kind='kde', data=df)\n",
        "plt.show()"
      ],
      "execution_count": null,
      "outputs": []
    },
    {
      "cell_type": "code",
      "metadata": {
        "id": "NLM50CM5VEUj"
      },
      "source": [
        "# 나머지 3개 피처 데이터를 한번에 그래프로 출력\n",
        "for col in ['sepal_width', 'petal_length', 'petal_width']:\n",
        "    sns.displot(x=col, hue='Target', kind='kde', data=df)\n",
        "plt.show()"
      ],
      "execution_count": null,
      "outputs": []
    },
    {
      "cell_type": "code",
      "metadata": {
        "id": "Zns5gpULsj0N"
      },
      "source": [
        "# 두 변수 간의 관계\n",
        "sns.pairplot(df, hue = 'Target', height = 2.5, diag_kind = 'kde')  # 히스토그램으로 보고 싶으면 'hist'로 설정\n",
        "plt.show()"
      ],
      "execution_count": null,
      "outputs": []
    },
    {
      "cell_type": "markdown",
      "metadata": {
        "id": "hvs4iBdRmmos"
      },
      "source": [
        "# Baseline 모델 학습\n",
        "\n",
        "이제 본격적으로 컴퓨터에게 학습을 시켜보자. 모델 학습에 사용할 훈련(train) 데이터와 모델 성능을 평가하는데 사용할 테스트 데이터(test)를 분할한다.\n",
        "\n",
        "사이킷런의 train_test_split 함수를 사용해보자."
      ]
    },
    {
      "cell_type": "markdown",
      "metadata": {
        "id": "Z2gSHoemlarU"
      },
      "source": [
        "#### 학습용-테스트 데이터셋 분리하기"
      ]
    },
    {
      "cell_type": "code",
      "metadata": {
        "id": "PGOO2I5aflhO",
        "colab": {
          "base_uri": "https://localhost:8080/"
        },
        "outputId": "5fc01a83-72e4-42f0-bf38-d5908c4e9fb3"
      },
      "source": [
        "from sklearn.model_selection import train_test_split \n",
        "\n",
        "X_data = df.loc[:, 'sepal_length':'petal_width']\n",
        "y_data = df.loc[:, 'Target']\n",
        "\n",
        "X_train, X_test, y_train, y_test = train_test_split(X_data, y_data, \n",
        "                                                    test_size=0.2, #test size : 전체 데이터 중 20%를 테스트용, 80%를 훈련용으로 분할\n",
        "                                                    shuffle=True, \n",
        "                                                    random_state=20) # random state 옵션을 지정해두면 무작위추출시 항상 일정한 기준으로 분할하여 같은 데이터를 사용하게 된다. \n",
        "                                                    #따라서 코드를 다시 실행해도 같은 결과를 얻는다.\n",
        "\n",
        "print(X_train.shape, y_train.shape)\n",
        "print(X_test.shape, y_test.shape)"
      ],
      "execution_count": 14,
      "outputs": [
        {
          "output_type": "stream",
          "name": "stdout",
          "text": [
            "(120, 4) (120,)\n",
            "(30, 4) (30,)\n"
          ]
        }
      ]
    },
    {
      "cell_type": "markdown",
      "metadata": {
        "id": "4QHtpflJurQL"
      },
      "source": [
        "### 로지스틱 회귀"
      ]
    },
    {
      "cell_type": "code",
      "metadata": {
        "id": "f5Qn0-9XuaC8"
      },
      "source": [
        "# 모델 학습\n",
        "from sklearn.linear_model import LogisticRegression\n",
        "lrc = LogisticRegression()\n",
        "lrc.fit(X_train, y_train)"
      ],
      "execution_count": null,
      "outputs": []
    },
    {
      "cell_type": "code",
      "metadata": {
        "id": "DO3SrDNMfg2n",
        "outputId": "9efb25f8-0eda-4b6c-d3ab-1fdcf3db2f79",
        "colab": {
          "base_uri": "https://localhost:8080/"
        }
      },
      "source": [
        "# 예측\n",
        "y_lrc_pred = lrc.predict(X_test)\n",
        "print(\"예측값: \", y_lrc_pred[:5])  #30개 중 5개의 꽃만 예측해보자.\n",
        "# 성능 평가\n",
        "from sklearn.metrics import accuracy_score\n",
        "lrc_acc = accuracy_score(y_test, y_lrc_pred)\n",
        "print(\"Accuracy: %.4f\" % lrc_acc)"
      ],
      "execution_count": null,
      "outputs": [
        {
          "output_type": "stream",
          "name": "stdout",
          "text": [
            "예측값:  [0 1 1 2 1]\n",
            "Accuracy: 1.0000\n"
          ]
        }
      ]
    },
    {
      "cell_type": "code",
      "metadata": {
        "id": "73AHNxwPiVxr"
      },
      "source": [
        "# 확률값 예측\n",
        "y_lrc_prob = lrc.predict_proba(X_test)\n",
        "y_lrc_prob #각 꽃 당 클래스0, 클래스1, 클래스 2의 예측확률 나타냄"
      ],
      "execution_count": null,
      "outputs": []
    },
    {
      "cell_type": "markdown",
      "metadata": {
        "id": "4CKgPEfOvT9O"
      },
      "source": [
        "### 의사결정나무"
      ]
    },
    {
      "cell_type": "code",
      "metadata": {
        "id": "TDgNxL1kvR9M",
        "outputId": "c69512f3-50f5-493f-fa59-601c94e03eb6",
        "colab": {
          "base_uri": "https://localhost:8080/"
        }
      },
      "source": [
        "# 모델 학습 및 예측\n",
        "from sklearn.tree import DecisionTreeClassifier\n",
        "dtc = DecisionTreeClassifier(max_depth=3, random_state=20)  #트리의 최대깊이는 3으로 설정한다. 지나치게 복잡한 구조를 갖게되면 모델이 훈련 데이터에 과대적합되기 때문이다.\n",
        "dtc.fit(X_train, y_train)"
      ],
      "execution_count": null,
      "outputs": [
        {
          "output_type": "execute_result",
          "data": {
            "text/plain": [
              "DecisionTreeClassifier(max_depth=3, random_state=20)"
            ]
          },
          "metadata": {},
          "execution_count": 19
        }
      ]
    },
    {
      "cell_type": "code",
      "metadata": {
        "id": "GiEeot1zfiij",
        "outputId": "e702c972-d74e-44b4-b42a-84d32a8f9fb6",
        "colab": {
          "base_uri": "https://localhost:8080/"
        }
      },
      "source": [
        "# 예측\n",
        "y_dtc_pred = dtc.predict(X_test)\n",
        "print(\"예측값: \", y_dtc_pred[:5])\n",
        "# 성능 평가\n",
        "dtc_acc = accuracy_score(y_test, y_dtc_pred)\n",
        "print(\"Accuracy: %.4f\" % dtc_acc)"
      ],
      "execution_count": null,
      "outputs": [
        {
          "output_type": "stream",
          "name": "stdout",
          "text": [
            "예측값:  [0 1 1 2 1]\n",
            "Accuracy: 0.9333\n"
          ]
        }
      ]
    },
    {
      "cell_type": "markdown",
      "metadata": {
        "id": "BeoN4NI_jIHT"
      },
      "source": [
        "### KNN"
      ]
    },
    {
      "cell_type": "code",
      "metadata": {
        "id": "JOd1hjuejHSO"
      },
      "source": [
        "# 모델 학습\n",
        "from sklearn.neighbors import KNeighborsClassifier\n",
        "knn = KNeighborsClassifier(n_neighbors=7)\n",
        "knn.fit(X_train, y_train)"
      ],
      "execution_count": null,
      "outputs": []
    },
    {
      "cell_type": "code",
      "metadata": {
        "id": "bJwWuAw6jHM_"
      },
      "source": [
        "# 예측\n",
        "y_knn_pred = knn.predict(X_test)\n",
        "print(\"예측값: \", y_knn_pred[:5])"
      ],
      "execution_count": null,
      "outputs": []
    },
    {
      "cell_type": "code",
      "metadata": {
        "id": "-4g4pUeSjHCj"
      },
      "source": [
        "# 성능 평가\n",
        "knn_acc = accuracy_score(y_test, y_knn_pred)\n",
        "print(\"Accuracy: %.4f\" % knn_acc)"
      ],
      "execution_count": null,
      "outputs": []
    },
    {
      "cell_type": "markdown",
      "source": [
        "K의 값을 바꿔 모델 성능을 평가해보자."
      ],
      "metadata": {
        "id": "-UijqaQvFtXS"
      }
    }
  ]
}
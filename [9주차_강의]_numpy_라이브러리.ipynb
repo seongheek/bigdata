{
  "nbformat": 4,
  "nbformat_minor": 0,
  "metadata": {
    "colab": {
      "provenance": [],
      "authorship_tag": "ABX9TyO6qD7r0+aj8HACpCJC4+jX",
      "include_colab_link": true
    },
    "kernelspec": {
      "name": "python3",
      "display_name": "Python 3"
    },
    "language_info": {
      "name": "python"
    }
  },
  "cells": [
    {
      "cell_type": "markdown",
      "metadata": {
        "id": "view-in-github",
        "colab_type": "text"
      },
      "source": [
        "<a href=\"https://colab.research.google.com/github/shkimusw/bigdata/blob/main/%5B9%EC%A3%BC%EC%B0%A8_%EA%B0%95%EC%9D%98%5D_numpy_%EB%9D%BC%EC%9D%B4%EB%B8%8C%EB%9F%AC%EB%A6%AC.ipynb\" target=\"_parent\"><img src=\"https://colab.research.google.com/assets/colab-badge.svg\" alt=\"Open In Colab\"/></a>"
      ]
    },
    {
      "cell_type": "markdown",
      "source": [
        "# 기본 기능"
      ],
      "metadata": {
        "id": "hK-kupUi2dpO"
      }
    },
    {
      "cell_type": "code",
      "execution_count": null,
      "metadata": {
        "id": "MubsPdiAzlR1",
        "colab": {
          "base_uri": "https://localhost:8080/"
        },
        "outputId": "bb5b1ea5-f49f-4b80-b1c3-4f2ae9db3914"
      },
      "outputs": [
        {
          "output_type": "stream",
          "name": "stdout",
          "text": [
            "1.4142135623730951\n"
          ]
        }
      ],
      "source": [
        "import numpy as np\n",
        "print(np.sqrt(2))"
      ]
    },
    {
      "cell_type": "code",
      "source": [
        "import numpy as np\n",
        "print(np.power(2,4))\n",
        "print(np.power(3,3))"
      ],
      "metadata": {
        "id": "dqnO5320dSQC"
      },
      "execution_count": null,
      "outputs": []
    },
    {
      "cell_type": "code",
      "source": [
        "import numpy as np\n",
        "print(np.pi)\n",
        "print(np.sin(0))\n",
        "print(np.cos(np.pi))"
      ],
      "metadata": {
        "id": "d7QIL66q0Dt6"
      },
      "execution_count": null,
      "outputs": []
    },
    {
      "cell_type": "code",
      "source": [
        "#랜덤 함수\n",
        "import numpy as np\n",
        "a=np.random.rand(5) #0~1 사이 랜덤 실수 5개\n",
        "print(a)\n"
      ],
      "metadata": {
        "id": "YZLr4fFc0tS1"
      },
      "execution_count": null,
      "outputs": []
    },
    {
      "cell_type": "code",
      "source": [
        "print(np.random.choice(6,10)) # 0~5 사이 정수 10개 선택"
      ],
      "metadata": {
        "id": "JGBQ1TXC08cB"
      },
      "execution_count": null,
      "outputs": []
    },
    {
      "cell_type": "code",
      "source": [
        "print(np.random.choice(10,6, replace=False))  #이미 뽑은 숫자 안 뽑기"
      ],
      "metadata": {
        "id": "xsLY3qtj1SmE"
      },
      "execution_count": null,
      "outputs": []
    },
    {
      "cell_type": "code",
      "source": [
        "print(np.random.choice(6,10,p=[0.1,0.2,0.3,0.2,0.1,0.1])) #p로 0~5 숫자 나올 확률 지정"
      ],
      "metadata": {
        "id": "QjJqakDg1kme"
      },
      "execution_count": null,
      "outputs": []
    },
    {
      "cell_type": "markdown",
      "source": [
        "# 그래프 그리기 (p.211)"
      ],
      "metadata": {
        "id": "rh9JQvC-2ZTV"
      }
    },
    {
      "cell_type": "code",
      "source": [
        "import matplotlib.pyplot as plt\n",
        "import numpy as np\n",
        "dice=np.random.choice(6,10)\n",
        "\n",
        "plt.hist(dice,bins=6)\n",
        "plt.show()"
      ],
      "metadata": {
        "id": "6iQMe3e92VM-"
      },
      "execution_count": null,
      "outputs": []
    },
    {
      "cell_type": "code",
      "source": [
        "#위에서 지정한 확률 그래프로 확인해보기\n",
        "histogram=np.random.choice(6,1000000,p=[0.1,0.2,0.3,0.2,0.1,0.1])\n",
        "plt.hist(histogram, bins=6)\n",
        "plt.show()"
      ],
      "metadata": {
        "id": "DIbc2M8S2xZO"
      },
      "execution_count": null,
      "outputs": []
    },
    {
      "cell_type": "markdown",
      "source": [
        "# 배열 생성하기"
      ],
      "metadata": {
        "id": "C7Zsd2YZ4Duc"
      }
    },
    {
      "cell_type": "code",
      "source": [
        "import numpy as np\n",
        "a=np.array([1,2,3,4])\n",
        "print(a) #array에 쉼표가 없다는 것 확인"
      ],
      "metadata": {
        "id": "9uUnIaF94GOp"
      },
      "execution_count": null,
      "outputs": []
    },
    {
      "cell_type": "code",
      "source": [
        "print(a[1], a[-1])"
      ],
      "metadata": {
        "id": "r8cfi13h4K2_"
      },
      "execution_count": null,
      "outputs": []
    },
    {
      "cell_type": "code",
      "source": [
        "print(a[1:])"
      ],
      "metadata": {
        "id": "h-qxC2La4Z3B"
      },
      "execution_count": null,
      "outputs": []
    },
    {
      "cell_type": "code",
      "source": [
        "b=np.array([1,2,'3',4]) #3만 문자로 저장\n",
        "print(b) # 모두 문자로 저장되는 것 확인"
      ],
      "metadata": {
        "id": "f_WR8lIx4dTX"
      },
      "execution_count": null,
      "outputs": []
    },
    {
      "cell_type": "code",
      "source": [
        "c=np.zeros(10) #0으로 이루어진 크기가 10인 배열\n",
        "print(c)"
      ],
      "metadata": {
        "id": "c7xBFZap4q_z",
        "colab": {
          "base_uri": "https://localhost:8080/"
        },
        "outputId": "10917291-bdb8-4183-c2fe-fd0e30a0c35e"
      },
      "execution_count": null,
      "outputs": [
        {
          "output_type": "stream",
          "name": "stdout",
          "text": [
            "[0. 0. 0. 0. 0. 0. 0. 0. 0. 0.]\n"
          ]
        }
      ]
    },
    {
      "cell_type": "code",
      "source": [
        "d=np.ones(10) #1으로 이루어진 크기가 10인 배열\n",
        "print(d)"
      ],
      "metadata": {
        "id": "dTHDuumT5wfZ"
      },
      "execution_count": null,
      "outputs": []
    },
    {
      "cell_type": "code",
      "source": [
        "e=np.zeros(10)+5 #초기값 5인 배열 10개\n",
        "print(e)"
      ],
      "metadata": {
        "id": "HtauoVqF59nU"
      },
      "execution_count": null,
      "outputs": []
    },
    {
      "cell_type": "code",
      "source": [
        "f=np.linspace(1,2,11) #1~2를 11개의 구간으로 나눈 실수 배열\n",
        "print(f)\n",
        "print(np.sqrt(f))"
      ],
      "metadata": {
        "id": "lNMAz8ZF6SJ0"
      },
      "execution_count": null,
      "outputs": []
    },
    {
      "cell_type": "code",
      "source": [
        "g=np.arange(-5,5)\n",
        "print(g)\n",
        "print(g>0)\n"
      ],
      "metadata": {
        "id": "WgKVVob76kcl"
      },
      "execution_count": null,
      "outputs": []
    },
    {
      "cell_type": "code",
      "source": [
        "print(g[g>0])"
      ],
      "metadata": {
        "id": "dSDgnJMV64uU"
      },
      "execution_count": null,
      "outputs": []
    },
    {
      "cell_type": "markdown",
      "source": [
        "행렬연산"
      ],
      "metadata": {
        "id": "Ynf0sQL1gne0"
      }
    },
    {
      "cell_type": "code",
      "source": [
        "ar1=np.array([1,2,3,4,5])\n",
        "ar2=np.array([[10,20,30],[40,50,60]])\n",
        "ar2"
      ],
      "metadata": {
        "id": "YhLrWYsQePe0"
      },
      "execution_count": null,
      "outputs": []
    },
    {
      "cell_type": "code",
      "source": [
        "ar3=np.array([1,2,3,4,5,6]).reshape((3,2))   #3행 2열로 구조변경\n",
        "ar3"
      ],
      "metadata": {
        "id": "0steBwWoecE4",
        "colab": {
          "base_uri": "https://localhost:8080/"
        },
        "outputId": "475c3f5d-3376-4b89-81e9-21fe095ad3a2"
      },
      "execution_count": null,
      "outputs": [
        {
          "output_type": "execute_result",
          "data": {
            "text/plain": [
              "array([[1, 2],\n",
              "       [3, 4],\n",
              "       [5, 6]])"
            ]
          },
          "metadata": {},
          "execution_count": 25
        }
      ]
    },
    {
      "cell_type": "code",
      "source": [
        "ar4=np.zeros((2,3))  #2행 3열의 0\n",
        "ar4"
      ],
      "metadata": {
        "id": "NSBzDhPtey-N"
      },
      "execution_count": null,
      "outputs": []
    },
    {
      "cell_type": "code",
      "source": [
        "ar5=ar1+10\n",
        "ar5"
      ],
      "metadata": {
        "id": "Gw9Gjjgke-mv"
      },
      "execution_count": null,
      "outputs": []
    },
    {
      "cell_type": "code",
      "source": [
        "ar1+ar5"
      ],
      "metadata": {
        "id": "_uEKVKJ_e_vn"
      },
      "execution_count": null,
      "outputs": []
    },
    {
      "cell_type": "code",
      "source": [
        "ar5-ar1"
      ],
      "metadata": {
        "id": "5A41fijkfNfR"
      },
      "execution_count": null,
      "outputs": []
    },
    {
      "cell_type": "code",
      "source": [
        "ar1*2"
      ],
      "metadata": {
        "id": "6aTz--DTfPcf"
      },
      "execution_count": null,
      "outputs": []
    },
    {
      "cell_type": "code",
      "source": [
        "ar1/2"
      ],
      "metadata": {
        "id": "Id6FfBhlfUEF"
      },
      "execution_count": null,
      "outputs": []
    },
    {
      "cell_type": "code",
      "source": [
        "ar6=np.dot(ar2,ar3)\n",
        "ar6"
      ],
      "metadata": {
        "id": "rc_GEjtbfVP4",
        "colab": {
          "base_uri": "https://localhost:8080/"
        },
        "outputId": "124bc012-41c6-4f6a-fef1-6debabbc4cb5"
      },
      "execution_count": null,
      "outputs": [
        {
          "output_type": "execute_result",
          "data": {
            "text/plain": [
              "array([[220, 280],\n",
              "       [490, 640]])"
            ]
          },
          "metadata": {},
          "execution_count": 32
        }
      ]
    }
  ]
}